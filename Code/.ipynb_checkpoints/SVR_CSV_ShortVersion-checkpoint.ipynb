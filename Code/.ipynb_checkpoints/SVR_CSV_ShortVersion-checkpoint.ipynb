{
 "cells": [
  {
   "cell_type": "markdown",
   "metadata": {},
   "source": [
    "# Short SVR Code\n",
    "## SVR is good for finding a model for the data that we have but it is not good for prediction\n"
   ]
  },
  {
   "cell_type": "code",
   "execution_count": 1,
   "metadata": {
    "collapsed": true
   },
   "outputs": [],
   "source": [
    "import numpy as np\n",
    "import matplotlib.pyplot as plt"
   ]
  },
  {
   "cell_type": "code",
   "execution_count": 4,
   "metadata": {
    "collapsed": true
   },
   "outputs": [],
   "source": [
    "import csv"
   ]
  },
  {
   "cell_type": "code",
   "execution_count": 5,
   "metadata": {
    "collapsed": true
   },
   "outputs": [],
   "source": [
    "import sklearn as sk\n",
    "from sklearn.svm import SVR"
   ]
  },
  {
   "cell_type": "code",
   "execution_count": 6,
   "metadata": {
    "collapsed": false
   },
   "outputs": [],
   "source": [
    "dates = []\n",
    "prices = []"
   ]
  },
  {
   "cell_type": "code",
   "execution_count": 7,
   "metadata": {
    "collapsed": true
   },
   "outputs": [],
   "source": [
    "def get_data(filename):\n",
    "    with open(filename,'r') as csvfile:\n",
    "        csvFileReader = csv.reader(csvfile)\n",
    "        # we read each line/row with the \"next\" method\n",
    "        # we skip the first row because it is just heading\n",
    "        next(csvFileReader)\n",
    "        for row in csvFileReader:\n",
    "            # we append the close price to price list\n",
    "            # we can create any other list with the same syntax\n",
    "            prices.append(float(row[4]))\n",
    "    return"
   ]
  },
  {
   "cell_type": "markdown",
   "metadata": {},
   "source": [
    "# Prediction using SVR"
   ]
  },
  {
   "cell_type": "code",
   "execution_count": 8,
   "metadata": {
    "collapsed": true
   },
   "outputs": [],
   "source": [
    "# prediction using SVR\n",
    "#def predict_price(dates, prices, x):\n",
    "def predict_price(prices, x):\n",
    "    #dates = np.reshape(dates, (len(dates),1))\n",
    "    xaxis = range(len(prices))\n",
    "    xaxis = np.reshape(xaxis, (len(xaxis),1))\n",
    "    \n",
    "    #svr_lin = SVR(kernel='linear', C=1000000)\n",
    "    #svr_poly = SVR(kernel='poly', C=1000000, degree = 2)\n",
    "    #svr_rbf = SVR(kernel='rbf', C=10000000, gamma=0.001)\n",
    "\n",
    "    #svr_lin = SVR(kernel='linear', C=100000, epsilon=0.00001)\n",
    "    #svr_poly = SVR(kernel='poly', C=100000, epsilon=0.00001, degree = 2)\n",
    "    #svr_rbf = SVR(kernel='rbf', C=100000, epsilon=0.00001, gamma=0.001)\n",
    "    svr_rbf = SVR(C=100000, epsilon=0.00001)\n",
    "    \n",
    "    #svr_lin.fit(xaxis,prices)\n",
    "    #svr_poly.fit(xaxis,prices)\n",
    "    svr_rbf.fit(xaxis,prices)\n",
    "    \n",
    "    # In the original code it was Dates and not xaxis\n",
    "    plt.scatter(xaxis,prices,color='black', label='Data')\n",
    "    plt.plot(xaxis, svr_rbf.predict(xaxis), color='red',label='RBF Model')\n",
    "    #plt.plot(xaxis, svr_lin.predict(xaxis), color='green',label='Linear Model')\n",
    "    #plt.plot(xaxis, svr_poly.predict(xaxis), color='blue',label='Poly Model')\n",
    "    plt.ylabel('Price')\n",
    "    plt.title('Support Vector Regression')\n",
    "    plt.legend()\n",
    "    plt.show()\n",
    "    \n",
    "    #return svr_rbf.predict(x)[0],svr_lin.predict(x)[0],svr_poly.predict(x)[0]\n",
    "    return svr_rbf.predict(x)[0]"
   ]
  },
  {
   "cell_type": "code",
   "execution_count": 9,
   "metadata": {
    "collapsed": false,
    "scrolled": true
   },
   "outputs": [
    {
     "name": "stdout",
     "output_type": "stream",
     "text": [
      "(119L,)\n",
      "=========\n",
      "(119L, 1L)\n",
      "*****\n",
      "the original value of x:\n",
      "1.05462\n",
      "Predicted Prices:\n",
      "1.05485724649\n"
     ]
    },
    {
     "name": "stderr",
     "output_type": "stream",
     "text": [
      "C:\\Anaconda2\\lib\\site-packages\\sklearn\\utils\\validation.py:526: DataConversionWarning: A column-vector y was passed when a 1d array was expected. Please change the shape of y to (n_samples, ), for example using ravel().\n",
      "  y = column_or_1d(y, warn=True)\n"
     ]
    }
   ],
   "source": [
    "prices = []\n",
    "get_data('Data/EURUSD_Candlestick_1_h_BID_09.01.2017-14.01.2017.csv')\n",
    "\n",
    "prices = prices[:119]\n",
    "prices = np.asarray(prices)\n",
    "print prices.shape\n",
    "print '========='\n",
    "\n",
    "reshprices = np.reshape(prices, (len(prices),1))\n",
    "print reshprices.shape\n",
    "print '*****'\n",
    "\n",
    "print 'the original value of x:'\n",
    "print prices[50]\n",
    "\n",
    "pred = predict_price(reshprices,50)\n",
    "#pred = predict_price(prices,50)\n",
    "print 'Predicted Prices:'\n",
    "print pred"
   ]
  },
  {
   "cell_type": "markdown",
   "metadata": {},
   "source": [
    "# Seprating Train and Test Samples"
   ]
  },
  {
   "cell_type": "code",
   "execution_count": 35,
   "metadata": {
    "collapsed": true
   },
   "outputs": [],
   "source": [
    "def predict_train_test_price(trainprices, testprices, x):\n",
    "    #dates = np.reshape(dates, (len(dates),1))\n",
    "    xtrainaxis = range(len(trainprices))\n",
    "    xtrainaxis = np.reshape(xtrainaxis, (len(xtrainaxis),1))\n",
    "    \n",
    "    #'''\n",
    "    xtestaxis = xtrainaxis[-1]+ range(len(testprices))+1\n",
    "    xtestaxis = np.reshape(xtestaxis, (len(xtestaxis),1))\n",
    "    #'''\n",
    "    \n",
    "    '''\n",
    "    xtestaxis = np.ones(len(testprices))\n",
    "    for i in range(1,len(xtestaxis)):\n",
    "        xtestaxis[i] = testprices[i-1]\n",
    "    \n",
    "    print xtrainaxis.shape\n",
    "    xtestaxis = np.reshape(xtestaxis,(len(xtestaxis),1))\n",
    "    print xtestaxis.shape\n",
    "    '''\n",
    "    \n",
    "    svr_rbf = SVR(C=100000, epsilon=0.00001)\n",
    "    svr_rbf.fit(xtrainaxis,trainprices)\n",
    "    \n",
    "    # In the original code it was Dates and not xaxis\n",
    "    plt.scatter(xtrainaxis,trainprices,color='black', label='Data')\n",
    "    plt.plot(xtrainaxis, svr_rbf.predict(xtrainaxis), color='blue',label='RBF Train Model')\n",
    "    plt.scatter(xtestaxis,testprices,color='black')\n",
    "    plt.plot(xtestaxis, svr_rbf.predict(xtestaxis), color='red',label='RBF TEST Model')\n",
    "    \n",
    "    plt.ylabel('Price')\n",
    "    plt.title('Support Vector Regression')\n",
    "    plt.legend()\n",
    "    plt.show()\n",
    "    \n",
    "    return svr_rbf.predict(x)[0]"
   ]
  },
  {
   "cell_type": "code",
   "execution_count": 36,
   "metadata": {
    "collapsed": false
   },
   "outputs": [],
   "source": [
    "prices = []\n",
    "get_data('Data/EURUSD_Candlestick_1_h_BID_09.01.2017-14.01.2017.csv')\n",
    "trainprices = prices[:90]\n",
    "testprices = prices[90:120]\n",
    "\n",
    "trainprices = np.asarray(trainprices)\n",
    "reshtrainprices = np.reshape(trainprices, (len(trainprices),1))\n",
    "\n",
    "testprices = np.asarray(testprices)\n",
    "reshtestprices = np.reshape(testprices, (len(testprices),1))\n",
    "\n",
    "\n",
    "pred = predict_train_test_price(reshtrainprices,reshtestprices,50)"
   ]
  },
  {
   "cell_type": "code",
   "execution_count": 34,
   "metadata": {
    "collapsed": true
   },
   "outputs": [],
   "source": [
    "xxxx = range(len(prices))\n",
    "plt.scatter(xxxx,prices)\n",
    "plt.show()"
   ]
  }
 ],
 "metadata": {
  "kernelspec": {
   "display_name": "Python 2",
   "language": "python",
   "name": "python2"
  },
  "language_info": {
   "codemirror_mode": {
    "name": "ipython",
    "version": 2
   },
   "file_extension": ".py",
   "mimetype": "text/x-python",
   "name": "python",
   "nbconvert_exporter": "python",
   "pygments_lexer": "ipython2",
   "version": "2.7.11"
  }
 },
 "nbformat": 4,
 "nbformat_minor": 0
}
