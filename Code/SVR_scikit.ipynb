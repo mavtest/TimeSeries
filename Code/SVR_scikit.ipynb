{
 "cells": [
  {
   "cell_type": "markdown",
   "metadata": {},
   "source": [
    "# This Notebook:\n",
    "## SVR is good for finding a model for the data that we have but it is not good for prediction\n",
    "\n",
    "This notebook is about hoe to use SVR(support vector regression) on forex data. The initial results seems good but there are two things that must be considered:\n",
    "\n",
    "- The parameters optimal values are very important and if I want to continue with this approach I haev to read more about them.\n",
    "- The predicted results seems to be very similar to the real test value but with a delay, I have to find a way for surpass this and get prediction for the next 2 or 3 timeslots."
   ]
  },
  {
   "cell_type": "markdown",
   "metadata": {},
   "source": [
    "# Resources:\n",
    "\n",
    "- https://calculatedcontent.com/2012/02/06/kernels_part_1/\n",
    "- https://calculatedcontent.com/2012/04/09/kernels-part-2-affine-quantum-gravity/ \n",
    "- https://calculatedcontent.com/2012/09/06/kernels-part-2-affine-quantum-gravity-continued/\n",
    "- http://stackoverflow.com/questions/34475245/sklearn-svm-svr-and-svc-getting-the-same-prediction-for-every-input\n",
    "- http://stackoverflow.com/questions/21393704/scikit-learn-svm-giving-me-zero-error-but-cant-predict?rq=1"
   ]
  },
  {
   "cell_type": "markdown",
   "metadata": {},
   "source": [
    "# Tips:\n",
    "\n",
    "- You should look to tune your C parameter using cross validation so that it is able to perform best on whichever metric matters most to you. You may want to look at GridSearchCV to help you do this.\n",
    "- http://stackoverflow.com/questions/15775727/time-series-prediction-using-support-vector-regression?noredirect=1&lq=1\n",
    "- For time series prediction I suggest building the training test set as\n",
    "\n",
    " x[0]=Y[0:K]; y[0]=Y[K]\n",
    " \n",
    " x[1]=Y[1:K+1]; y[1]=Y[K+1]\n",
    " ...\n",
    "\n",
    " that is, try to predict future elements of the sequence from a window of previous elements. \n",
    "- "
   ]
  },
  {
   "cell_type": "code",
   "execution_count": 1,
   "metadata": {
    "collapsed": false
   },
   "outputs": [],
   "source": [
    "import sklearn\n",
    "import numpy as np\n",
    "import pandas as pd\n",
    "\n",
    "import matplotlib.pyplot as plt"
   ]
  },
  {
   "cell_type": "markdown",
   "metadata": {},
   "source": [
    "# Importing Data"
   ]
  },
  {
   "cell_type": "markdown",
   "metadata": {},
   "source": [
    "## A better way for importing data is using 'csv' library"
   ]
  },
  {
   "cell_type": "code",
   "execution_count": 3,
   "metadata": {
    "collapsed": true
   },
   "outputs": [],
   "source": [
    "import csv"
   ]
  },
  {
   "cell_type": "code",
   "execution_count": 2,
   "metadata": {
    "collapsed": true
   },
   "outputs": [],
   "source": [
    "prices = []\n",
    "dates = []"
   ]
  },
  {
   "cell_type": "code",
   "execution_count": 1,
   "metadata": {
    "collapsed": true
   },
   "outputs": [],
   "source": [
    "def get_data(filename):\n",
    "    with open(filename,'r') as csvfile:\n",
    "        csvFileReader = csv.reader(csvfile)\n",
    "        # we read each line/row with the \"next\" method\n",
    "        # we skip the first row because it is just heading\n",
    "        next(csvFileReader)\n",
    "        for row in csvFileReader:\n",
    "            # we append the close price to price list\n",
    "            # we can create any other list with the same syntax\n",
    "            prices.append(float(row[4]))\n",
    "    return"
   ]
  },
  {
   "cell_type": "code",
   "execution_count": null,
   "metadata": {
    "collapsed": true
   },
   "outputs": [],
   "source": [
    "#dates = np.reshape(dates, (len(dates),1))\n",
    "xaxis = range(len(prices))\n",
    "xaxis = np.reshape(xaxis, (len(xaxis),1))\n",
    "\n",
    "plt.scatter(xaxis,prices,color='black', label='Data')\n",
    "plt.show()\n",
    "\n",
    "prices = []\n",
    "get_data('Data/EURUSD_Candlestick_1_h_BID_09.01.2017-14.01.2017.csv')\n",
    "\n",
    "prices = prices[:119]\n",
    "prices = np.asarray(prices)\n",
    "print prices.shape\n",
    "print '========='\n",
    "\n",
    "reshprices = np.reshape(prices, (len(prices),1))\n",
    "print reshprices.shape\n",
    "print '*****'\n",
    "\n",
    "print 'the original value of x:'\n",
    "print prices[50]\n",
    "\n",
    "pred = predict_price(reshprices,50)\n",
    "#pred = predict_price(prices,50)\n",
    "print 'Predicted Prices:'\n",
    "print pred"
   ]
  },
  {
   "cell_type": "code",
   "execution_count": 2,
   "metadata": {
    "collapsed": false
   },
   "outputs": [],
   "source": [
    "data = pd.read_csv('Data/EURUSD_Candlestick_1_h_BID_09.01.2017-14.01.2017.csv',delimiter=',',header=None)\n",
    "npdata = np.asarray(data)"
   ]
  },
  {
   "cell_type": "code",
   "execution_count": 3,
   "metadata": {
    "collapsed": false
   },
   "outputs": [
    {
     "name": "stdout",
     "output_type": "stream",
     "text": [
      "(145, 6)\n",
      "[['Gmt time' 'Open' 'High' 'Low' 'Close' 'Volume']\n",
      " ['09.01.2017 00:00:00.000' '1.05294' '1.05358' '1.05224' '1.05350'\n",
      "  '6551.899999999998']]\n",
      "1.05350\n",
      "1.05294\n"
     ]
    }
   ],
   "source": [
    "print data.shape\n",
    "#print data.values\n",
    "print npdata[0:2,:]\n",
    "dataclose = npdata[1:120,4]\n",
    "dataopen = npdata[1:120,1]\n",
    "print dataclose[0]\n",
    "print dataopen[0]"
   ]
  },
  {
   "cell_type": "code",
   "execution_count": 4,
   "metadata": {
    "collapsed": false
   },
   "outputs": [],
   "source": [
    "%matplotlib qt\n",
    "plt.plot(dataclose,'.b',label='Close Price')\n",
    "plt.plot(dataopen,'.r',label='Open Price')\n",
    "plt.legend(loc='best')\n",
    "plt.grid(True)\n",
    "#plt.show()"
   ]
  },
  {
   "cell_type": "markdown",
   "metadata": {},
   "source": [
    "# Forecasting"
   ]
  },
  {
   "cell_type": "code",
   "execution_count": 5,
   "metadata": {
    "collapsed": true
   },
   "outputs": [],
   "source": [
    "from sklearn.svm import SVR"
   ]
  },
  {
   "cell_type": "code",
   "execution_count": 10,
   "metadata": {
    "collapsed": false,
    "scrolled": true
   },
   "outputs": [
    {
     "name": "stdout",
     "output_type": "stream",
     "text": [
      "(100L, 1L)\n",
      "(20L, 1L)\n",
      "(100L, 1L)\n",
      "(20L, 1L)\n"
     ]
    }
   ],
   "source": [
    "ytrainclose = dataclose[:100]\n",
    "ytestclose = dataclose[99:]\n",
    "\n",
    "ytrainclose = ytrainclose.astype(np.float)\n",
    "ytestclose = ytestclose.astype(np.float)\n",
    "\n",
    "#ytrainclose = ytrainclose - 1\n",
    "#ytestclose = ytestclose -1\n",
    "\n",
    "xtrain = np.ones(len(ytrainclose))\n",
    "#xtrain[0] = 1.0540\n",
    "for i in range(1,len(xtrain)):\n",
    "    xtrain[i] = ytrainclose[i-1]\n",
    "\n",
    "xtest = np.ones(len(ytestclose))\n",
    "for i in range(1,len(xtest)):\n",
    "    xtest[i] = ytestclose[i-1]\n",
    "\n",
    "ytrainclose = ytrainclose.reshape((100,1))\n",
    "ytestclose = ytestclose.reshape((20,1))\n",
    "xtrain = xtrain.reshape((100,1))\n",
    "xtest = xtest.reshape((20,1))    \n",
    "\n",
    "print ytrainclose.shape\n",
    "print ytestclose.shape\n",
    "print xtrain.shape\n",
    "print xtest.shape"
   ]
  },
  {
   "cell_type": "code",
   "execution_count": 11,
   "metadata": {
    "collapsed": false
   },
   "outputs": [
    {
     "name": "stdout",
     "output_type": "stream",
     "text": [
      "[LibSVM]"
     ]
    }
   ],
   "source": [
    "#Not working because C and epsilon are very different than what they should be\n",
    "# I have to read about C and epsilon\n",
    "clf = SVR(kernel='rbf', C=1e3, verbose=True)\n",
    "#clf.fit(xtrain,ytrainclose)\n",
    "pred = clf.fit(xtrain,ytrainclose).predict(xtrain)"
   ]
  },
  {
   "cell_type": "markdown",
   "metadata": {},
   "source": [
    "http://stackoverflow.com/questions/34475245/sklearn-svm-svr-and-svc-getting-the-same-prediction-for-every-input"
   ]
  },
  {
   "cell_type": "code",
   "execution_count": 12,
   "metadata": {
    "collapsed": false
   },
   "outputs": [],
   "source": [
    "regsvr = SVR(C=100000, epsilon=0.00001)\n",
    "pred2 = regsvr.fit(xtrain,ytrainclose).predict(xtest)"
   ]
  },
  {
   "cell_type": "code",
   "execution_count": 22,
   "metadata": {
    "collapsed": false
   },
   "outputs": [],
   "source": [
    "xtest[0] = 0.06"
   ]
  },
  {
   "cell_type": "code",
   "execution_count": 25,
   "metadata": {
    "collapsed": false
   },
   "outputs": [],
   "source": [
    "#print 'Real values: \\n', ytestclose\n",
    "# print 'xtest: ', xtest\n",
    "# print '\\n Predicated: \\n', pred2\n",
    "#print clf.score()\n",
    "# print 'ytest: ', ytestclose"
   ]
  },
  {
   "cell_type": "code",
   "execution_count": 13,
   "metadata": {
    "collapsed": false
   },
   "outputs": [],
   "source": [
    "%matplotlib qt\n",
    "#plt.plot(ytrainclose,'-b',label='Real Price')\n",
    "plt.plot(ytestclose,'-b',label='Real Price')\n",
    "plt.plot(pred2,'-r',label='Predicated Price')\n",
    "plt.legend()\n",
    "plt.grid(True)"
   ]
  },
  {
   "cell_type": "markdown",
   "metadata": {},
   "source": [
    "### Linear Kernel - Bad Results"
   ]
  },
  {
   "cell_type": "code",
   "execution_count": 15,
   "metadata": {
    "collapsed": false
   },
   "outputs": [],
   "source": [
    "regsvr_lin = SVR(kernel='linear',C=1000, epsilon=0.0001)\n",
    "linpred = regsvr_lin.fit(xtrain,ytrainclose).predict(xtest)"
   ]
  },
  {
   "cell_type": "code",
   "execution_count": 16,
   "metadata": {
    "collapsed": false
   },
   "outputs": [
    {
     "data": {
      "text/plain": [
       "array([ 0.0576161 ,  0.05761262,  0.05760848,  0.05760853,  0.05760316,\n",
       "        0.05760236,  0.05760109,  0.05759669,  0.05759673,  0.05759602,\n",
       "        0.05759633,  0.05759625,  0.05761399,  0.05760593,  0.0576054 ,\n",
       "        0.05759972,  0.05760197,  0.05759686,  0.05759985,  0.05759761])"
      ]
     },
     "execution_count": 16,
     "metadata": {},
     "output_type": "execute_result"
    }
   ],
   "source": [
    "linpred"
   ]
  },
  {
   "cell_type": "code",
   "execution_count": 17,
   "metadata": {
    "collapsed": false
   },
   "outputs": [],
   "source": [
    "%matplotlib qt\n",
    "\n",
    "#plt.plot(ytrainclose,'-b',label='Real Price')\n",
    "plt.plot(ytestclose,'-b',label='Real Price')\n",
    "plt.plot(linpred,'-r',label='Predicated Price')\n",
    "plt.legend()\n",
    "plt.grid(True)"
   ]
  },
  {
   "cell_type": "markdown",
   "metadata": {},
   "source": [
    "### Poly Kernel - Bad Results"
   ]
  },
  {
   "cell_type": "code",
   "execution_count": 18,
   "metadata": {
    "collapsed": true
   },
   "outputs": [],
   "source": [
    "regsvr_poly = SVR(kernel='poly',C=1000, epsilon=0.0001)\n",
    "polypred = regsvr_poly.fit(xtrain,ytrainclose).predict(xtest)"
   ]
  },
  {
   "cell_type": "code",
   "execution_count": 19,
   "metadata": {
    "collapsed": false
   },
   "outputs": [
    {
     "data": {
      "text/plain": [
       "array([ 0.05774002,  0.05773998,  0.05773994,  0.05773994,  0.05773988,\n",
       "        0.05773987,  0.05773985,  0.0577398 ,  0.0577398 ,  0.0577398 ,\n",
       "        0.0577398 ,  0.0577398 ,  0.05773999,  0.05773991,  0.0577399 ,\n",
       "        0.05773984,  0.05773986,  0.05773981,  0.05773984,  0.05773981])"
      ]
     },
     "execution_count": 19,
     "metadata": {},
     "output_type": "execute_result"
    }
   ],
   "source": [
    "polypred"
   ]
  },
  {
   "cell_type": "code",
   "execution_count": 20,
   "metadata": {
    "collapsed": true
   },
   "outputs": [],
   "source": [
    "%matplotlib qt\n",
    "\n",
    "#plt.plot(ytrainclose,'-b',label='Real Price')\n",
    "plt.plot(ytestclose,'-b',label='Real Price')\n",
    "plt.plot(polypred,'-r',label='Predicated Price')\n",
    "plt.legend()\n",
    "plt.grid(True)"
   ]
  },
  {
   "cell_type": "code",
   "execution_count": null,
   "metadata": {
    "collapsed": true
   },
   "outputs": [],
   "source": []
  }
 ],
 "metadata": {
  "kernelspec": {
   "display_name": "Python 2",
   "language": "python",
   "name": "python2"
  },
  "language_info": {
   "codemirror_mode": {
    "name": "ipython",
    "version": 2
   },
   "file_extension": ".py",
   "mimetype": "text/x-python",
   "name": "python",
   "nbconvert_exporter": "python",
   "pygments_lexer": "ipython2",
   "version": "2.7.11"
  }
 },
 "nbformat": 4,
 "nbformat_minor": 0
}
